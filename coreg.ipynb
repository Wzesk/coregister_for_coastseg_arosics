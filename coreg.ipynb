{
 "cells": [
  {
   "cell_type": "code",
   "execution_count": 1,
   "id": "dd5320bd",
   "metadata": {},
   "outputs": [
    {
     "name": "stdout",
     "output_type": "stream",
     "text": [
      "Executing scripts/coregister_single.py ...\n"
     ]
    },
    {
     "ename": "ModuleNotFoundError",
     "evalue": "No module named 'helpers'",
     "output_type": "error",
     "traceback": [
      "\u001b[0;31m---------------------------------------------------------------------------\u001b[0m",
      "\u001b[0;31mModuleNotFoundError\u001b[0m                       Traceback (most recent call last)",
      "Cell \u001b[0;32mIn[1], line 13\u001b[0m\n\u001b[1;32m     11\u001b[0m     code \u001b[38;5;241m=\u001b[39m \u001b[38;5;28mcompile\u001b[39m(f\u001b[38;5;241m.\u001b[39mread(), script_path, \u001b[38;5;124m'\u001b[39m\u001b[38;5;124mexec\u001b[39m\u001b[38;5;124m'\u001b[39m)\n\u001b[1;32m     12\u001b[0m     exec_globals \u001b[38;5;241m=\u001b[39m {\u001b[38;5;124m'\u001b[39m\u001b[38;5;124m__name__\u001b[39m\u001b[38;5;124m'\u001b[39m: \u001b[38;5;124m'\u001b[39m\u001b[38;5;124m__main__\u001b[39m\u001b[38;5;124m'\u001b[39m}\n\u001b[0;32m---> 13\u001b[0m     exec(code, exec_globals)\n\u001b[1;32m     15\u001b[0m \u001b[38;5;66;03m# After execution, load and display the JSON result\u001b[39;00m\n\u001b[1;32m     16\u001b[0m result_json \u001b[38;5;241m=\u001b[39m os\u001b[38;5;241m.\u001b[39mpath\u001b[38;5;241m.\u001b[39mjoin(\u001b[38;5;124m'\u001b[39m\u001b[38;5;124mcoregistered\u001b[39m\u001b[38;5;124m'\u001b[39m, \u001b[38;5;124m'\u001b[39m\u001b[38;5;124mcoreg_result.json\u001b[39m\u001b[38;5;124m'\u001b[39m)\n",
      "File \u001b[0;32m~/Documents/repos/coregister_for_coastseg_arosics/scripts/coregister_single.py:17\u001b[0m\n\u001b[1;32m      1\u001b[0m \u001b[38;5;66;03m# This script was written on 1/27/25\u001b[39;00m\n\u001b[1;32m      2\u001b[0m \u001b[38;5;66;03m# By Sharon Batiste\u001b[39;00m\n\u001b[1;32m      3\u001b[0m \n\u001b[0;32m   (...)\u001b[0m\n\u001b[1;32m     14\u001b[0m \u001b[38;5;66;03m#    From : https://danschef.git-pages.gfz-potsdam.de/arosics/doc/usage/input_data_requirements.html\u001b[39;00m\n\u001b[1;32m     15\u001b[0m \u001b[38;5;66;03m# -------------\u001b[39;00m\n\u001b[0;32m---> 17\u001b[0m \u001b[38;5;28;01mfrom\u001b[39;00m \u001b[38;5;21;01mhelpers\u001b[39;00m \u001b[38;5;28;01mimport\u001b[39;00m \u001b[38;5;241m*\u001b[39m\n\u001b[1;32m     18\u001b[0m \u001b[38;5;28;01mimport\u001b[39;00m \u001b[38;5;21;01mfile_utilites\u001b[39;00m \u001b[38;5;28;01mas\u001b[39;00m \u001b[38;5;21;01mfile_utils\u001b[39;00m\n\u001b[1;32m     19\u001b[0m \u001b[38;5;28;01mfrom\u001b[39;00m \u001b[38;5;21;01marosics_filter\u001b[39;00m \u001b[38;5;28;01mimport\u001b[39;00m \u001b[38;5;241m*\u001b[39m\n",
      "\u001b[0;31mModuleNotFoundError\u001b[0m: No module named 'helpers'"
     ]
    }
   ],
   "source": [
    "# Run the coregister_single script inside the notebook\n",
    "# This assumes the current working directory is the repo root.\n",
    "\n",
    "import json, os, importlib.util, sys\n",
    "\n",
    "script_path = os.path.join('scripts', 'coregister_single.py')\n",
    "print(f\"Executing {script_path} ...\")\n",
    "\n",
    "# Option 1: execfile style\n",
    "with open(script_path, 'r') as f:\n",
    "    code = compile(f.read(), script_path, 'exec')\n",
    "    exec_globals = {'__name__': '__main__'}\n",
    "    exec(code, exec_globals)\n",
    "\n",
    "# After execution, load and display the JSON result\n",
    "result_json = os.path.join('coregistered', 'coreg_result.json')\n",
    "if os.path.exists(result_json):\n",
    "    with open(result_json) as jf:\n",
    "        data = json.load(jf)\n",
    "    print('\\nCoregistration Result Summary:')\n",
    "    for k, v in data.items():\n",
    "        if k == 'settings':\n",
    "            continue\n",
    "        print(f\"  {k}: {v}\")\n",
    "else:\n",
    "    print('Result JSON not found. Check for errors above.')"
   ]
  },
  {
   "cell_type": "code",
   "execution_count": 2,
   "id": "4aedca9f",
   "metadata": {},
   "outputs": [
    {
     "name": "stdout",
     "output_type": "stream",
     "text": [
      "Python version: 3.12.7 | packaged by Anaconda, Inc. | (main, Oct  4 2024, 08:22:19) [Clang 14.0.6 ]\n",
      "Executable: /opt/anaconda3/bin/python\n",
      "Platform: macOS-15.6-arm64-arm-64bit\n"
     ]
    }
   ],
   "source": [
    "import sys, platform\n",
    "print('Python version:', sys.version)\n",
    "print('Executable:', sys.executable)\n",
    "print('Platform:', platform.platform())"
   ]
  }
 ],
 "metadata": {
  "kernelspec": {
   "display_name": "base",
   "language": "python",
   "name": "python3"
  },
  "language_info": {
   "codemirror_mode": {
    "name": "ipython",
    "version": 3
   },
   "file_extension": ".py",
   "mimetype": "text/x-python",
   "name": "python",
   "nbconvert_exporter": "python",
   "pygments_lexer": "ipython3",
   "version": "3.12.7"
  }
 },
 "nbformat": 4,
 "nbformat_minor": 5
}
